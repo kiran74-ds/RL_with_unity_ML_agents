{
 "cells": [
  {
   "cell_type": "code",
   "execution_count": 1,
   "metadata": {},
   "outputs": [],
   "source": [
    "from unityagents import UnityEnvironment\n",
    "import numpy as np\n",
    "import time\n",
    "import matplotlib.pyplot as plt\n",
    "from agent import Agent\n",
    "from collections import deque\n",
    "\n",
    "import torch"
   ]
  },
  {
   "cell_type": "code",
   "execution_count": 2,
   "metadata": {
    "scrolled": true
   },
   "outputs": [
    {
     "name": "stderr",
     "output_type": "stream",
     "text": [
      "INFO:unityagents:\n",
      "'Academy' started successfully!\n",
      "Unity Academy name: Academy\n",
      "        Number of Brains: 1\n",
      "        Number of External Brains : 1\n",
      "        Lesson number : 0\n",
      "        Reset Parameters :\n",
      "\t\tgoal_size -> 5.0\n",
      "\t\tgoal_speed -> 1.0\n",
      "Unity brain name: ReacherBrain\n",
      "        Number of Visual Observations (per agent): 0\n",
      "        Vector Observation space type: continuous\n",
      "        Vector Observation space size (per agent): 33\n",
      "        Number of stacked Vector Observation: 1\n",
      "        Vector Action space type: continuous\n",
      "        Vector Action space size (per agent): 4\n",
      "        Vector Action descriptions: , , , \n"
     ]
    }
   ],
   "source": [
    "#env = UnityEnvironment(file_name='Reacher.app')\n",
    "\n",
    "env = UnityEnvironment(file_name='Multi_Reacher.app')"
   ]
  },
  {
   "cell_type": "code",
   "execution_count": 3,
   "metadata": {},
   "outputs": [],
   "source": [
    "brain_name = env.brain_names[0]\n",
    "brain = env.brains[brain_name]"
   ]
  },
  {
   "cell_type": "code",
   "execution_count": 4,
   "metadata": {},
   "outputs": [
    {
     "name": "stdout",
     "output_type": "stream",
     "text": [
      "Number of agents: 20\n",
      "Size of each action: 4\n",
      "There are 20 agents. Each observes a state with length: 33\n",
      "The state for the first agent looks like: [ 0.00000000e+00 -4.00000000e+00  0.00000000e+00  1.00000000e+00\n",
      " -0.00000000e+00 -0.00000000e+00 -4.37113883e-08  0.00000000e+00\n",
      "  0.00000000e+00  0.00000000e+00  0.00000000e+00  0.00000000e+00\n",
      "  0.00000000e+00  0.00000000e+00 -1.00000000e+01  0.00000000e+00\n",
      "  1.00000000e+00 -0.00000000e+00 -0.00000000e+00 -4.37113883e-08\n",
      "  0.00000000e+00  0.00000000e+00  0.00000000e+00  0.00000000e+00\n",
      "  0.00000000e+00  0.00000000e+00  5.75471878e+00 -1.00000000e+00\n",
      "  5.55726624e+00  0.00000000e+00  1.00000000e+00  0.00000000e+00\n",
      " -1.68164849e-01]\n"
     ]
    }
   ],
   "source": [
    "#reset the environment\n",
    "env_info = env.reset(train_mode=True)[brain_name]\n",
    "\n",
    "# number of agents\n",
    "num_agents = len(env_info.agents)\n",
    "print('Number of agents:', num_agents)\n",
    "\n",
    "# size of each action\n",
    "action_size = brain.vector_action_space_size\n",
    "print('Size of each action:', action_size)\n",
    "\n",
    "# examine the state space \n",
    "states = env_info.vector_observations\n",
    "state_size = states.shape[1]\n",
    "print('There are {} agents. Each observes a state with length: {}'.format(states.shape[0], state_size))\n",
    "print('The state for the first agent looks like:', states[0])"
   ]
  },
  {
   "cell_type": "code",
   "execution_count": 5,
   "metadata": {},
   "outputs": [
    {
     "name": "stdout",
     "output_type": "stream",
     "text": [
      "1001\n",
      "Total score (averaged over agents) this episode: 0.09699999783188104\n"
     ]
    }
   ],
   "source": [
    "states = env_info.vector_observations                  # get the current state (for each agent)\n",
    "scores = np.zeros(num_agents)                          # initialize the score (for each agent)\n",
    "i = 0\n",
    "while True:\n",
    "    i+=1\n",
    "    actions = np.random.randn(num_agents, action_size) # select an action (for each agent)\n",
    "    actions = np.clip(actions, -1, 1)                  # all actions between -1 and 1\n",
    "    env_info = env.step(actions)[brain_name]           # send all actions to tne environment\n",
    "    next_states = env_info.vector_observations         # get next state (for each agent)\n",
    "    rewards = env_info.rewards                         # get reward (for each agent)\n",
    "    dones = env_info.local_done                        # see if episode finished\n",
    "    scores += env_info.rewards                         # update the score (for each agent)\n",
    "    states = next_states                               # roll over states to next time step\n",
    "    if np.any(dones):                                  # exit loop if episode finished\n",
    "        print(i)\n",
    "        break\n",
    "print('Total score (averaged over agents) this episode: {}'.format(np.mean(scores)))"
   ]
  },
  {
   "cell_type": "code",
   "execution_count": 6,
   "metadata": {},
   "outputs": [],
   "source": [
    "state_dim = int(env_info.vector_observations.shape[1])\n",
    "action_dim = int(brain.vector_action_space_size)"
   ]
  },
  {
   "cell_type": "code",
   "execution_count": 7,
   "metadata": {},
   "outputs": [],
   "source": [
    "def ddpg(n_episodes=10, max_t=1000):\n",
    "    \"\"\" Deep Deterministic Policy Gradients\n",
    "    Params\n",
    "    ======\n",
    "        n_episodes (int): maximum number of training episodes\n",
    "        max_t (int): maximum number of timesteps per episode\n",
    "    \"\"\"\n",
    "    scores_window = deque(maxlen=100)\n",
    "    scores = np.zeros(num_agents)\n",
    "    scores_episode = []\n",
    "    \n",
    "    agents =[] \n",
    "    \n",
    "    for i in range(num_agents):\n",
    "        agents.append(Agent(state_dim, action_dim, random_seed=0))\n",
    "    \n",
    "    for i_episode in range(1, n_episodes+1):\n",
    "        env_info = env.reset(train_mode=True)[brain_name]\n",
    "        states = env_info.vector_observations\n",
    "        \n",
    "        for agent in agents:\n",
    "            agent.reset()\n",
    "            \n",
    "        scores = np.zeros(num_agents)\n",
    "            \n",
    "        for t in range(max_t):\n",
    "            actions = np.array([agents[i].act(states[i]) for i in range(num_agents)]).squeeze(1)\n",
    "            env_info = env.step(actions)[brain_name]        # send the action to the environment\n",
    "            next_states = env_info.vector_observations     # get the next state\n",
    "            rewards = env_info.rewards                     # get the reward\n",
    "            rewards = [0.1 if rew > 0 else 0 for rew in rewards]\n",
    "            dones = env_info.local_done        \n",
    "            for i in range(num_agents):\n",
    "                agents[i].step(states[i], actions[i], rewards[i], next_states[i], dones[i]) \n",
    "            states = next_states\n",
    "            scores += rewards\n",
    "            print('\\rEpisode {}\\tStep: {:.2f}\\t Score: {:.2f}'.format(i_episode, t, np.mean(scores)), end=\"\")\n",
    "            if np.any(dones):\n",
    "                break \n",
    "        score = np.mean(scores)\n",
    "        scores_window.append(score)       # save most recent score\n",
    "        scores_episode.append(score)\n",
    "\n",
    "        print('\\rEpisode {}\\tScore: {:.2f}\\tAverage Score: {:.2f}'.format(i_episode, score, np.mean(scores_window)))\n",
    "        if i_episode % 100 == 0:\n",
    "            print('\\rEpisode {}\\tAverage Score: {:.2f}'.format(i_episode, np.mean(scores_window)))\n",
    "        if np.mean(scores_window)>=10.0:\n",
    "            print('\\nEnvironment solved in {:d} episodes!\\tAverage Score: {:.2f}'.format(i_episode-100, np.mean(scores_window)))\n",
    "            for i, agent in enumerate(agents):\n",
    "                torch.save(agent.actor_local.state_dict(), 'models/checkpoint_actor_'+str(i)+'.pth')\n",
    "                torch.save(agent.critic_local.state_dict(), 'models/checkpoint_critic_'+str(i)+'.pth')\n",
    "            break\n",
    "            \n",
    "    return scores_episode"
   ]
  },
  {
   "cell_type": "code",
   "execution_count": 8,
   "metadata": {},
   "outputs": [
    {
     "name": "stdout",
     "output_type": "stream",
     "text": [
      "Episode 1\tScore: 3.60\tAverage Score: 3.60\n",
      "Episode 2\tScore: 2.50\tAverage Score: 3.05\n",
      "Episode 3\tScore: 3.30\tAverage Score: 3.13\n",
      "Episode 4\tScore: 2.20\tAverage Score: 2.90\n",
      "Episode 5\tScore: 3.50\tAverage Score: 3.02\n",
      "Episode 6\tScore: 3.90\tAverage Score: 3.17\n",
      "Episode 7\tScore: 1.10\tAverage Score: 2.87\n",
      "Episode 8\tScore: 1.70\tAverage Score: 2.73\n",
      "Episode 9\tScore: 3.90\tAverage Score: 2.86\n",
      "Episode 10\tScore: 5.40\tAverage Score: 3.11\n",
      "Episode 11\tScore: 6.20\tAverage Score: 3.39\n",
      "Episode 12\tScore: 2.50\tAverage Score: 3.32\n",
      "Episode 13\tScore: 5.40\tAverage Score: 3.48\n",
      "Episode 14\tScore: 2.80\tAverage Score: 3.43\n",
      "Episode 15\tScore: 5.50\tAverage Score: 3.57\n",
      "Episode 16\tScore: 2.70\tAverage Score: 3.51\n",
      "Episode 17\tScore: 3.90\tAverage Score: 3.54\n",
      "Episode 18\tScore: 1.90\tAverage Score: 3.44\n",
      "Episode 19\tScore: 6.20\tAverage Score: 3.59\n",
      "Episode 20\tScore: 2.00\tAverage Score: 3.51\n",
      "Episode 21\tScore: 6.20\tAverage Score: 3.64\n",
      "Episode 22\tScore: 3.30\tAverage Score: 3.62\n",
      "Episode 23\tScore: 7.80\tAverage Score: 3.80\n",
      "Episode 24\tScore: 3.50\tAverage Score: 3.79\n",
      "Episode 25\tScore: 2.80\tAverage Score: 3.75\n",
      "Episode 26\tScore: 5.70\tAverage Score: 3.83\n",
      "Episode 27\tScore: 3.10\tAverage Score: 3.80\n",
      "Episode 28\tScore: 12.50\tAverage Score: 4.11\n",
      "Episode 29\tScore: 4.70\tAverage Score: 4.13\n",
      "Episode 30\tScore: 5.60\tAverage Score: 4.18\n",
      "Episode 31\tScore: 6.10\tAverage Score: 4.24\n",
      "Episode 32\tScore: 7.60\tAverage Score: 4.35\n",
      "Episode 33\tScore: 4.80\tAverage Score: 4.36\n",
      "Episode 34\tScore: 4.40\tAverage Score: 4.36\n",
      "Episode 35\tScore: 7.50\tAverage Score: 4.45\n",
      "Episode 36\tScore: 5.90\tAverage Score: 4.49\n",
      "Episode 37\tScore: 5.90\tAverage Score: 4.53\n",
      "Episode 38\tScore: 7.70\tAverage Score: 4.61\n",
      "Episode 39\tScore: 8.70\tAverage Score: 4.72\n",
      "Episode 40\tScore: 14.40\tAverage Score: 4.96\n",
      "Episode 41\tScore: 3.90\tAverage Score: 4.93\n",
      "Episode 42\tScore: 9.60\tAverage Score: 5.05\n",
      "Episode 43\tScore: 5.50\tAverage Score: 5.06\n",
      "Episode 44\tScore: 7.10\tAverage Score: 5.10\n",
      "Episode 45\tScore: 9.50\tAverage Score: 5.20\n",
      "Episode 46\tScore: 8.70\tAverage Score: 5.28\n",
      "Episode 47\tScore: 8.50\tAverage Score: 5.34\n",
      "Episode 48\tScore: 4.20\tAverage Score: 5.32\n",
      "Episode 49\tScore: 14.00\tAverage Score: 5.50\n",
      "Episode 50\tScore: 5.20\tAverage Score: 5.49\n",
      "Episode 51\tScore: 10.10\tAverage Score: 5.58\n",
      "Episode 52\tScore: 19.40\tAverage Score: 5.85\n",
      "Episode 53\tScore: 11.20\tAverage Score: 5.95\n",
      "Episode 54\tScore: 11.70\tAverage Score: 6.06\n",
      "Episode 55\tScore: 11.80\tAverage Score: 6.16\n",
      "Episode 56\tScore: 8.10\tAverage Score: 6.19\n",
      "Episode 57\tScore: 8.50\tAverage Score: 6.24\n",
      "Episode 58\tScore: 10.30\tAverage Score: 6.31\n",
      "Episode 59\tScore: 4.60\tAverage Score: 6.28\n",
      "Episode 60\tScore: 18.90\tAverage Score: 6.49\n",
      "Episode 61\tScore: 9.60\tAverage Score: 6.54\n",
      "Episode 62\tScore: 6.60\tAverage Score: 6.54\n",
      "Episode 63\tScore: 24.60\tAverage Score: 6.83\n",
      "Episode 64\tScore: 12.60\tAverage Score: 6.92\n",
      "Episode 65\tScore: 18.80\tAverage Score: 7.10\n",
      "Episode 66\tScore: 16.30\tAverage Score: 7.24\n",
      "Episode 67\tScore: 15.50\tAverage Score: 7.36\n",
      "Episode 68\tScore: 0.90\tAverage Score: 7.27\n",
      "Episode 69\tScore: 13.60\tAverage Score: 7.36\n",
      "Episode 70\tScore: 5.30\tAverage Score: 7.33\n",
      "Episode 71\tScore: 13.60\tAverage Score: 7.42\n",
      "Episode 72\tScore: 4.70\tAverage Score: 7.38\n",
      "Episode 73\tScore: 6.10\tAverage Score: 7.36\n",
      "Episode 74\tScore: 7.10\tAverage Score: 7.36\n",
      "Episode 75\tScore: 14.90\tAverage Score: 7.46\n",
      "Episode 76\tScore: 20.50\tAverage Score: 7.63\n",
      "Episode 77\tScore: 4.80\tAverage Score: 7.59\n",
      "Episode 78\tScore: 16.60\tAverage Score: 7.71\n",
      "Episode 79\tScore: 5.70\tAverage Score: 7.68\n",
      "Episode 80\tScore: 21.20\tAverage Score: 7.85\n",
      "Episode 81\tScore: 16.80\tAverage Score: 7.96\n",
      "Episode 82\tScore: 20.10\tAverage Score: 8.11\n",
      "Episode 83\tScore: 16.10\tAverage Score: 8.21\n",
      "Episode 84\tScore: 10.80\tAverage Score: 8.24\n",
      "Episode 85\tScore: 25.10\tAverage Score: 8.44\n",
      "Episode 86\tScore: 21.70\tAverage Score: 8.59\n",
      "Episode 87\tScore: 26.60\tAverage Score: 8.80\n",
      "Episode 88\tScore: 20.70\tAverage Score: 8.93\n",
      "Episode 89\tScore: 21.00\tAverage Score: 9.07\n",
      "Episode 90\tScore: 20.80\tAverage Score: 9.20\n",
      "Episode 91\tScore: 15.50\tAverage Score: 9.27\n",
      "Episode 92\tScore: 17.50\tAverage Score: 9.36\n",
      "Episode 93\tScore: 26.60\tAverage Score: 9.54\n",
      "Episode 94\tScore: 32.10\tAverage Score: 9.78\n",
      "Episode 95\tScore: 16.00\tAverage Score: 9.85\n",
      "Episode 96\tScore: 13.40\tAverage Score: 9.89\n",
      "Episode 97\tScore: 25.80\tAverage Score: 10.05\n",
      "Episode 98\tScore: 10.70\tAverage Score: 10.06\n",
      "Episode 99\tScore: 23.50\tAverage Score: 10.19\n",
      "Episode 100\tScore: 21.00\tAverage Score: 10.30\n",
      "Episode 100\tAverage Score: 10.30\n",
      "Episode 101\tScore: 28.10\tAverage Score: 10.55\n",
      "Episode 102\tScore: 11.70\tAverage Score: 10.64\n",
      "Episode 103\tScore: 19.50\tAverage Score: 10.80\n",
      "Episode 104\tScore: 3.50\tAverage Score: 10.81\n",
      "Episode 105\tScore: 29.30\tAverage Score: 11.07\n",
      "Episode 106\tScore: 30.70\tAverage Score: 11.34\n",
      "Episode 107\tScore: 29.20\tAverage Score: 11.62\n",
      "Episode 108\tScore: 23.60\tAverage Score: 11.84\n",
      "Episode 109\tScore: 17.00\tAverage Score: 11.97\n",
      "Episode 110\tScore: 27.40\tAverage Score: 12.19\n",
      "Episode 111\tScore: 31.50\tAverage Score: 12.44\n",
      "Episode 112\tScore: 23.00\tAverage Score: 12.65\n",
      "Episode 113\tScore: 22.70\tAverage Score: 12.82\n",
      "Episode 114\tScore: 21.90\tAverage Score: 13.01\n",
      "Episode 115\tScore: 27.50\tAverage Score: 13.23\n",
      "Episode 116\tScore: 22.20\tAverage Score: 13.43\n",
      "Episode 117\tScore: 21.90\tAverage Score: 13.61\n",
      "Episode 118\tScore: 7.60\tAverage Score: 13.66\n",
      "Episode 119\tScore: 28.60\tAverage Score: 13.89\n",
      "Episode 120\tScore: 30.70\tAverage Score: 14.17\n",
      "Episode 121\tScore: 12.80\tAverage Score: 14.24\n",
      "Episode 122\tScore: 26.20\tAverage Score: 14.47\n",
      "Episode 123\tScore: 51.60\tAverage Score: 14.91\n",
      "Episode 124\tScore: 43.80\tAverage Score: 15.31\n",
      "Episode 125\tScore: 65.80\tAverage Score: 15.94\n",
      "Episode 126\tScore: 38.60\tAverage Score: 16.27\n",
      "Episode 127\tScore: 47.70\tAverage Score: 16.72\n",
      "Episode 128\tScore: 54.00\tAverage Score: 17.13\n",
      "Episode 129\tScore: 49.00\tAverage Score: 17.57\n",
      "Episode 130\tScore: 35.90\tAverage Score: 17.88\n",
      "Episode 131\tScore: 52.70\tAverage Score: 18.34\n",
      "Episode 132\tScore: 45.80\tAverage Score: 18.72\n",
      "Episode 133\tScore: 52.20\tAverage Score: 19.20\n",
      "Episode 134\tScore: 28.20\tAverage Score: 19.44\n",
      "Episode 135\tScore: 61.30\tAverage Score: 19.97\n",
      "Episode 136\tScore: 47.40\tAverage Score: 20.39\n",
      "Episode 137\tScore: 59.30\tAverage Score: 20.92\n",
      "Episode 138\tScore: 57.00\tAverage Score: 21.42\n",
      "Episode 139\tScore: 65.50\tAverage Score: 21.98\n",
      "Episode 140\tScore: 66.30\tAverage Score: 22.50\n",
      "Episode 141\tScore: 73.90\tAverage Score: 23.20\n",
      "Episode 142\tScore: 35.20\tAverage Score: 23.46\n",
      "Episode 143\tScore: 78.20\tAverage Score: 24.19\n",
      "Episode 144\tScore: 55.30\tAverage Score: 24.67\n",
      "Episode 145\tScore: 33.60\tAverage Score: 24.91\n",
      "Episode 146\tScore: 71.90\tAverage Score: 25.54\n",
      "Episode 147\tScore: 69.90\tAverage Score: 26.16\n",
      "Episode 148\tScore: 74.90\tAverage Score: 26.86\n",
      "Episode 149\tScore: 63.20\tAverage Score: 27.35\n",
      "Episode 150\tScore: 70.70\tAverage Score: 28.01\n",
      "Episode 151\tScore: 80.60\tAverage Score: 28.71\n",
      "Episode 152\tScore: 71.30\tAverage Score: 29.23\n",
      "Episode 153\tScore: 88.10\tAverage Score: 30.00\n",
      "\n",
      "Environment solved in 53 episodes!\tAverage Score: 30.00\n"
     ]
    }
   ],
   "source": [
    "scores = ddpg(n_episodes=300)"
   ]
  },
  {
   "cell_type": "code",
   "execution_count": 9,
   "metadata": {},
   "outputs": [
    {
     "data": {
      "image/png": "[encoded data removed]",
      "text/plain": [
       "<Figure size 432x288 with 1 Axes>"
      ]
     },
     "metadata": {
      "needs_background": "light"
     },
     "output_type": "display_data"
    }
   ],
   "source": [
    "fig = plt.figure()\n",
    "ax = fig.add_subplot(111)\n",
    "plt.plot(np.arange(1, len(scores)+1), scores)\n",
    "plt.ylabel('Score')\n",
    "plt.xlabel('Episode #')\n",
    "plt.show()"
   ]
  },
  {
   "cell_type": "code",
   "execution_count": 10,
   "metadata": {},
   "outputs": [],
   "source": [
    "#scores = ddpg(n_episodes=10)"
   ]
  },
  {
   "cell_type": "code",
   "execution_count": 11,
   "metadata": {},
   "outputs": [],
   "source": [
    "#scores = ddpg(n_episodes=100)"
   ]
  },
  {
   "cell_type": "code",
   "execution_count": 12,
   "metadata": {},
   "outputs": [],
   "source": [
    "# fig = plt.figure()\n",
    "# ax = fig.add_subplot(111)\n",
    "# plt.plot(np.arange(1, len(scores)+1), scores)\n",
    "# plt.ylabel('Score')\n",
    "# plt.xlabel('Episode #')\n",
    "# plt.show()"
   ]
  },
  {
   "cell_type": "code",
   "execution_count": null,
   "metadata": {},
   "outputs": [],
   "source": []
  }
 ],
 "metadata": {
  "kernelspec": {
   "display_name": "drl",
   "language": "python",
   "name": "drl"
  },
  "language_info": {
   "codemirror_mode": {
    "name": "ipython",
    "version": 3
   },
   "file_extension": ".py",
   "mimetype": "text/x-python",
   "name": "python",
   "nbconvert_exporter": "python",
   "pygments_lexer": "ipython3",
   "version": "3.6.12"
  }
 },
 "nbformat": 4,
 "nbformat_minor": 4
}

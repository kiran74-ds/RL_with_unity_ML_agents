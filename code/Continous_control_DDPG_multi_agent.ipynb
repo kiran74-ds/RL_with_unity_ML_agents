{
 "cells": [
  {
   "cell_type": "code",
   "execution_count": 1,
   "metadata": {},
   "outputs": [],
   "source": [
    "from unityagents import UnityEnvironment\n",
    "import numpy as np\n",
    "import time\n",
    "import matplotlib.pyplot as plt\n",
    "from agent import Agent\n",
    "from collections import deque\n",
    "\n",
    "import torch"
   ]
  },
  {
   "cell_type": "code",
   "execution_count": 2,
   "metadata": {
    "scrolled": true
   },
   "outputs": [
    {
     "name": "stderr",
     "output_type": "stream",
     "text": [
      "INFO:unityagents:\n",
      "'Academy' started successfully!\n",
      "Unity Academy name: Academy\n",
      "        Number of Brains: 1\n",
      "        Number of External Brains : 1\n",
      "        Lesson number : 0\n",
      "        Reset Parameters :\n",
      "\t\tgoal_size -> 5.0\n",
      "\t\tgoal_speed -> 1.0\n",
      "Unity brain name: ReacherBrain\n",
      "        Number of Visual Observations (per agent): 0\n",
      "        Vector Observation space type: continuous\n",
      "        Vector Observation space size (per agent): 33\n",
      "        Number of stacked Vector Observation: 1\n",
      "        Vector Action space type: continuous\n",
      "        Vector Action space size (per agent): 4\n",
      "        Vector Action descriptions: , , , \n"
     ]
    }
   ],
   "source": [
    "#env = UnityEnvironment(file_name='Reacher.app')\n",
    "\n",
    "env = UnityEnvironment(file_name='Multi_Reacher.app')"
   ]
  },
  {
   "cell_type": "code",
   "execution_count": 3,
   "metadata": {},
   "outputs": [],
   "source": [
    "brain_name = env.brain_names[0]\n",
    "brain = env.brains[brain_name]"
   ]
  },
  {
   "cell_type": "code",
   "execution_count": 4,
   "metadata": {},
   "outputs": [
    {
     "name": "stdout",
     "output_type": "stream",
     "text": [
      "Number of agents: 20\n",
      "Size of each action: 4\n",
      "There are 20 agents. Each observes a state with length: 33\n",
      "The state for the first agent looks like: [ 0.00000000e+00 -4.00000000e+00  0.00000000e+00  1.00000000e+00\n",
      " -0.00000000e+00 -0.00000000e+00 -4.37113883e-08  0.00000000e+00\n",
      "  0.00000000e+00  0.00000000e+00  0.00000000e+00  0.00000000e+00\n",
      "  0.00000000e+00  0.00000000e+00 -1.00000000e+01  0.00000000e+00\n",
      "  1.00000000e+00 -0.00000000e+00 -0.00000000e+00 -4.37113883e-08\n",
      "  0.00000000e+00  0.00000000e+00  0.00000000e+00  0.00000000e+00\n",
      "  0.00000000e+00  0.00000000e+00  5.75471878e+00 -1.00000000e+00\n",
      "  5.55726624e+00  0.00000000e+00  1.00000000e+00  0.00000000e+00\n",
      " -1.68164849e-01]\n"
     ]
    }
   ],
   "source": [
    "#reset the environment\n",
    "env_info = env.reset(train_mode=True)[brain_name]\n",
    "\n",
    "# number of agents\n",
    "num_agents = len(env_info.agents)\n",
    "print('Number of agents:', num_agents)\n",
    "\n",
    "# size of each action\n",
    "action_size = brain.vector_action_space_size\n",
    "print('Size of each action:', action_size)\n",
    "\n",
    "# examine the state space \n",
    "states = env_info.vector_observations\n",
    "state_size = states.shape[1]\n",
    "print('There are {} agents. Each observes a state with length: {}'.format(states.shape[0], state_size))\n",
    "print('The state for the first agent looks like:', states[0])"
   ]
  },
  {
   "cell_type": "code",
   "execution_count": 5,
   "metadata": {},
   "outputs": [
    {
     "name": "stdout",
     "output_type": "stream",
     "text": [
      "1001\n",
      "Total score (averaged over agents) this episode: 0.12499999720603228\n"
     ]
    }
   ],
   "source": [
    "states = env_info.vector_observations                  # get the current state (for each agent)\n",
    "scores = np.zeros(num_agents)                          # initialize the score (for each agent)\n",
    "i = 0\n",
    "while True:\n",
    "    i+=1\n",
    "    actions = np.random.randn(num_agents, action_size) # select an action (for each agent)\n",
    "    actions = np.clip(actions, -1, 1)                  # all actions between -1 and 1\n",
    "    env_info = env.step(actions)[brain_name]           # send all actions to tne environment\n",
    "    next_states = env_info.vector_observations         # get next state (for each agent)\n",
    "    rewards = env_info.rewards                         # get reward (for each agent)\n",
    "    dones = env_info.local_done                        # see if episode finished\n",
    "    scores += env_info.rewards                         # update the score (for each agent)\n",
    "    states = next_states                               # roll over states to next time step\n",
    "    if np.any(dones):                                  # exit loop if episode finished\n",
    "        print(i)\n",
    "        break\n",
    "print('Total score (averaged over agents) this episode: {}'.format(np.mean(scores)))"
   ]
  },
  {
   "cell_type": "code",
   "execution_count": 6,
   "metadata": {},
   "outputs": [],
   "source": [
    "state_dim = int(env_info.vector_observations.shape[1])\n",
    "action_dim = int(brain.vector_action_space_size)"
   ]
  },
  {
   "cell_type": "code",
   "execution_count": 7,
   "metadata": {},
   "outputs": [],
   "source": [
    "def ddpg(n_episodes=10, max_t=1000):\n",
    "    \"\"\" Deep Deterministic Policy Gradients\n",
    "    Params\n",
    "    ======\n",
    "        n_episodes (int): maximum number of training episodes\n",
    "        max_t (int): maximum number of timesteps per episode\n",
    "    \"\"\"\n",
    "    scores_window = deque(maxlen=100)\n",
    "    scores = np.zeros(num_agents)\n",
    "    scores_episode = []\n",
    "    \n",
    "    agents =[] \n",
    "    \n",
    "    for i in range(num_agents):\n",
    "        agents.append(Agent(state_dim, action_dim, random_seed=0))\n",
    "    \n",
    "    for i_episode in range(1, n_episodes+1):\n",
    "        env_info = env.reset(train_mode=True)[brain_name]\n",
    "        states = env_info.vector_observations\n",
    "        \n",
    "        for agent in agents:\n",
    "            agent.reset()\n",
    "            \n",
    "        scores = np.zeros(num_agents)\n",
    "            \n",
    "        for t in range(max_t):\n",
    "            actions = np.array([agents[i].act(states[i]) for i in range(num_agents)]).squeeze(1)\n",
    "            env_info = env.step(actions)[brain_name]        # send the action to the environment\n",
    "            next_states = env_info.vector_observations     # get the next state\n",
    "            rewards = env_info.rewards                     # get the reward\n",
    "            rewards = [0.1 if rew > 0 else 0 for rew in rewards]\n",
    "            dones = env_info.local_done        \n",
    "            for i in range(num_agents):\n",
    "                agents[i].step(states[i], actions[i], rewards[i], next_states[i], dones[i]) \n",
    "            states = next_states\n",
    "            scores += rewards\n",
    "            print('\\rEpisode {}\\tStep: {:.2f}\\t Score: {:.2f}'.format(i_episode, t, np.mean(scores)), end=\"\")\n",
    "            if np.any(dones):\n",
    "                break \n",
    "        score = np.mean(scores)\n",
    "        scores_window.append(score)       # save most recent score\n",
    "        scores_episode.append(score)\n",
    "\n",
    "        print('\\rEpisode {}\\tScore: {:.2f}\\tAverage Score: {:.2f}'.format(i_episode, score, np.mean(scores_window)))\n",
    "        if i_episode % 100 == 0:\n",
    "            print('\\rEpisode {}\\tAverage Score: {:.2f}'.format(i_episode, np.mean(scores_window)))\n",
    "        if np.mean(scores_window)>=30:\n",
    "            print('\\nEnvironment solved in {:d} episodes!\\tAverage Score: {:.2f}'.format(i_episode, np.mean(scores_window)))\n",
    "            for i, agent in enumerate(agents):\n",
    "                torch.save(agent.actor_local.state_dict(), 'models/checkpoint_actor_'+str(i+1)+'.pth')\n",
    "                torch.save(agent.critic_local.state_dict(), 'models/checkpoint_critic_'+str(i+1)+'.pth')\n",
    "            break\n",
    "            \n",
    "    return scores_episode"
   ]
  },
  {
   "cell_type": "code",
   "execution_count": 8,
   "metadata": {},
   "outputs": [
    {
     "name": "stdout",
     "output_type": "stream",
     "text": [
      "Episode 1\tScore: 1.78\tAverage Score: 1.78\n",
      "Episode 2\tScore: 1.10\tAverage Score: 1.44\n",
      "Episode 3\tScore: 1.20\tAverage Score: 1.36\n",
      "Episode 4\tScore: 1.67\tAverage Score: 1.43\n",
      "Episode 5\tScore: 1.23\tAverage Score: 1.39\n",
      "Episode 6\tScore: 1.25\tAverage Score: 1.37\n",
      "Episode 7\tScore: 1.17\tAverage Score: 1.34\n",
      "Episode 8\tScore: 1.63\tAverage Score: 1.37\n",
      "Episode 9\tScore: 1.30\tAverage Score: 1.37\n",
      "Episode 10\tScore: 1.42\tAverage Score: 1.37\n",
      "Episode 11\tScore: 2.25\tAverage Score: 1.45\n",
      "Episode 12\tScore: 2.23\tAverage Score: 1.52\n",
      "Episode 13\tScore: 2.14\tAverage Score: 1.56\n",
      "Episode 14\tScore: 2.30\tAverage Score: 1.62\n",
      "Episode 15\tScore: 2.79\tAverage Score: 1.70\n",
      "Episode 16\tScore: 1.78\tAverage Score: 1.70\n",
      "Episode 17\tScore: 2.03\tAverage Score: 1.72\n",
      "Episode 18\tScore: 2.75\tAverage Score: 1.78\n",
      "Episode 19\tScore: 2.55\tAverage Score: 1.82\n",
      "Episode 20\tScore: 2.58\tAverage Score: 1.86\n",
      "Episode 21\tScore: 2.30\tAverage Score: 1.88\n",
      "Episode 22\tScore: 2.86\tAverage Score: 1.92\n",
      "Episode 23\tScore: 2.41\tAverage Score: 1.94\n",
      "Episode 24\tScore: 2.23\tAverage Score: 1.95\n",
      "Episode 25\tScore: 2.86\tAverage Score: 1.99\n",
      "Episode 26\tScore: 2.91\tAverage Score: 2.03\n",
      "Episode 27\tScore: 2.89\tAverage Score: 2.06\n",
      "Episode 28\tScore: 3.62\tAverage Score: 2.11\n",
      "Episode 29\tScore: 3.39\tAverage Score: 2.16\n",
      "Episode 30\tScore: 3.24\tAverage Score: 2.19\n",
      "Episode 31\tScore: 3.52\tAverage Score: 2.24\n",
      "Episode 32\tScore: 3.86\tAverage Score: 2.29\n",
      "Episode 33\tScore: 4.43\tAverage Score: 2.35\n",
      "Episode 34\tScore: 3.96\tAverage Score: 2.40\n",
      "Episode 35\tScore: 3.95\tAverage Score: 2.44\n",
      "Episode 36\tScore: 4.10\tAverage Score: 2.49\n",
      "Episode 37\tScore: 4.56\tAverage Score: 2.55\n",
      "Episode 38\tScore: 4.54\tAverage Score: 2.60\n",
      "Episode 39\tScore: 4.08\tAverage Score: 2.64\n",
      "Episode 40\tScore: 4.82\tAverage Score: 2.69\n",
      "Episode 41\tScore: 4.66\tAverage Score: 2.74\n",
      "Episode 42\tScore: 5.09\tAverage Score: 2.80\n",
      "Episode 43\tScore: 4.38\tAverage Score: 2.83\n",
      "Episode 44\tScore: 5.40\tAverage Score: 2.89\n",
      "Episode 45\tScore: 5.92\tAverage Score: 2.96\n",
      "Episode 46\tScore: 6.09\tAverage Score: 3.03\n",
      "Episode 47\tScore: 5.47\tAverage Score: 3.08\n",
      "Episode 48\tScore: 6.46\tAverage Score: 3.15\n",
      "Episode 49\tScore: 5.11\tAverage Score: 3.19\n",
      "Episode 50\tScore: 6.68\tAverage Score: 3.26\n",
      "Episode 51\tScore: 5.70\tAverage Score: 3.31\n",
      "Episode 52\tScore: 6.38\tAverage Score: 3.37\n",
      "Episode 53\tScore: 5.88\tAverage Score: 3.41\n",
      "Episode 54\tScore: 7.07\tAverage Score: 3.48\n",
      "Episode 55\tScore: 7.58\tAverage Score: 3.56\n",
      "Episode 56\tScore: 7.59\tAverage Score: 3.63\n",
      "Episode 57\tScore: 7.47\tAverage Score: 3.70\n",
      "Episode 58\tScore: 7.30\tAverage Score: 3.76\n",
      "Episode 59\tScore: 8.41\tAverage Score: 3.84\n",
      "Episode 60\tScore: 7.75\tAverage Score: 3.90\n",
      "Episode 61\tScore: 9.03\tAverage Score: 3.99\n",
      "Episode 62\tScore: 7.44\tAverage Score: 4.04\n",
      "Episode 63\tScore: 8.52\tAverage Score: 4.11\n",
      "Episode 64\tScore: 7.47\tAverage Score: 4.17\n",
      "Episode 65\tScore: 10.05\tAverage Score: 4.26\n",
      "Episode 66\tScore: 10.06\tAverage Score: 4.34\n",
      "Episode 67\tScore: 8.89\tAverage Score: 4.41\n",
      "Episode 68\tScore: 8.53\tAverage Score: 4.47\n",
      "Episode 69\tScore: 9.60\tAverage Score: 4.55\n",
      "Episode 70\tScore: 10.29\tAverage Score: 4.63\n",
      "Episode 71\tScore: 9.29\tAverage Score: 4.69\n",
      "Episode 72\tScore: 10.22\tAverage Score: 4.77\n",
      "Episode 73\tScore: 12.05\tAverage Score: 4.87\n",
      "Episode 74\tScore: 11.74\tAverage Score: 4.96\n",
      "Episode 75\tScore: 11.56\tAverage Score: 5.05\n",
      "Episode 76\tScore: 10.35\tAverage Score: 5.12\n",
      "Episode 77\tScore: 10.51\tAverage Score: 5.19\n",
      "Episode 78\tScore: 11.28\tAverage Score: 5.27\n",
      "Episode 79\tScore: 11.89\tAverage Score: 5.35\n",
      "Episode 80\tScore: 11.81\tAverage Score: 5.43\n",
      "Episode 81\tScore: 9.69\tAverage Score: 5.49\n",
      "Episode 82\tScore: 10.20\tAverage Score: 5.54\n",
      "Episode 83\tScore: 11.75\tAverage Score: 5.62\n",
      "Episode 84\tScore: 12.07\tAverage Score: 5.70\n",
      "Episode 85\tScore: 11.90\tAverage Score: 5.77\n",
      "Episode 86\tScore: 12.74\tAverage Score: 5.85\n",
      "Episode 87\tScore: 13.76\tAverage Score: 5.94\n",
      "Episode 88\tScore: 13.36\tAverage Score: 6.03\n",
      "Episode 89\tScore: 13.77\tAverage Score: 6.11\n",
      "Episode 90\tScore: 13.12\tAverage Score: 6.19\n",
      "Episode 91\tScore: 13.55\tAverage Score: 6.27\n",
      "Episode 92\tScore: 15.18\tAverage Score: 6.37\n",
      "Episode 93\tScore: 15.62\tAverage Score: 6.47\n",
      "Episode 94\tScore: 14.24\tAverage Score: 6.55\n",
      "Episode 95\tScore: 16.69\tAverage Score: 6.66\n",
      "Episode 96\tScore: 13.54\tAverage Score: 6.73\n",
      "Episode 97\tScore: 14.66\tAverage Score: 6.81\n",
      "Episode 98\tScore: 16.38\tAverage Score: 6.91\n",
      "Episode 99\tScore: 16.33\tAverage Score: 7.00\n",
      "Episode 100\tScore: 15.20\tAverage Score: 7.09\n",
      "Episode 100\tAverage Score: 7.09\n",
      "Episode 101\tScore: 16.76\tAverage Score: 7.24\n",
      "Episode 102\tScore: 16.56\tAverage Score: 7.39\n",
      "Episode 103\tScore: 17.33\tAverage Score: 7.55\n",
      "Episode 104\tScore: 18.30\tAverage Score: 7.72\n",
      "Episode 105\tScore: 17.63\tAverage Score: 7.88\n",
      "Episode 106\tScore: 17.40\tAverage Score: 8.04\n",
      "Episode 107\tScore: 18.00\tAverage Score: 8.21\n",
      "Episode 108\tScore: 14.98\tAverage Score: 8.34\n",
      "Episode 109\tScore: 20.08\tAverage Score: 8.53\n",
      "Episode 110\tScore: 16.96\tAverage Score: 8.69\n",
      "Episode 111\tScore: 17.65\tAverage Score: 8.84\n",
      "Episode 112\tScore: 18.33\tAverage Score: 9.00\n",
      "Episode 113\tScore: 15.00\tAverage Score: 9.13\n",
      "Episode 114\tScore: 19.35\tAverage Score: 9.30\n",
      "Episode 115\tScore: 18.87\tAverage Score: 9.46\n",
      "Episode 116\tScore: 20.14\tAverage Score: 9.65\n",
      "Episode 117\tScore: 18.87\tAverage Score: 9.81\n",
      "Episode 118\tScore: 19.86\tAverage Score: 9.99\n",
      "Episode 119\tScore: 19.60\tAverage Score: 10.16\n",
      "Episode 120\tScore: 21.98\tAverage Score: 10.35\n",
      "Episode 121\tScore: 20.16\tAverage Score: 10.53\n",
      "Episode 122\tScore: 20.63\tAverage Score: 10.71\n",
      "Episode 123\tScore: 22.23\tAverage Score: 10.90\n",
      "Episode 124\tScore: 20.06\tAverage Score: 11.08\n",
      "Episode 125\tScore: 24.32\tAverage Score: 11.30\n",
      "Episode 126\tScore: 20.07\tAverage Score: 11.47\n",
      "Episode 127\tScore: 21.61\tAverage Score: 11.66\n",
      "Episode 128\tScore: 21.85\tAverage Score: 11.84\n",
      "Episode 129\tScore: 23.19\tAverage Score: 12.04\n",
      "Episode 130\tScore: 22.28\tAverage Score: 12.23\n",
      "Episode 131\tScore: 22.38\tAverage Score: 12.42\n",
      "Episode 132\tScore: 23.39\tAverage Score: 12.61\n",
      "Episode 133\tScore: 21.23\tAverage Score: 12.78\n",
      "Episode 134\tScore: 22.17\tAverage Score: 12.96\n",
      "Episode 135\tScore: 24.30\tAverage Score: 13.16\n",
      "Episode 136\tScore: 26.56\tAverage Score: 13.39\n",
      "Episode 137\tScore: 22.10\tAverage Score: 13.56\n",
      "Episode 138\tScore: 23.44\tAverage Score: 13.75\n",
      "Episode 139\tScore: 25.02\tAverage Score: 13.96\n",
      "Episode 140\tScore: 26.14\tAverage Score: 14.18\n",
      "Episode 141\tScore: 24.40\tAverage Score: 14.37\n",
      "Episode 142\tScore: 26.93\tAverage Score: 14.59\n",
      "Episode 143\tScore: 27.89\tAverage Score: 14.83\n",
      "Episode 144\tScore: 26.28\tAverage Score: 15.03\n",
      "Episode 145\tScore: 28.12\tAverage Score: 15.26\n",
      "Episode 146\tScore: 28.89\tAverage Score: 15.48\n",
      "Episode 147\tScore: 29.80\tAverage Score: 15.73\n",
      "Episode 148\tScore: 28.54\tAverage Score: 15.95\n",
      "Episode 149\tScore: 29.42\tAverage Score: 16.19\n",
      "Episode 150\tScore: 28.82\tAverage Score: 16.41\n",
      "Episode 151\tScore: 29.16\tAverage Score: 16.65\n",
      "Episode 152\tScore: 31.01\tAverage Score: 16.89\n",
      "Episode 153\tScore: 30.81\tAverage Score: 17.14\n",
      "Episode 154\tScore: 30.43\tAverage Score: 17.38\n",
      "Episode 155\tScore: 29.56\tAverage Score: 17.60\n",
      "Episode 156\tScore: 28.30\tAverage Score: 17.80\n",
      "Episode 157\tScore: 32.90\tAverage Score: 18.06\n",
      "Episode 158\tScore: 32.50\tAverage Score: 18.31\n",
      "Episode 159\tScore: 30.81\tAverage Score: 18.53\n",
      "Episode 160\tScore: 30.42\tAverage Score: 18.76\n",
      "Episode 161\tScore: 32.83\tAverage Score: 19.00\n",
      "Episode 162\tScore: 30.04\tAverage Score: 19.22\n",
      "Episode 163\tScore: 34.53\tAverage Score: 19.48\n",
      "Episode 164\tScore: 32.62\tAverage Score: 19.74\n",
      "Episode 165\tScore: 33.69\tAverage Score: 19.97\n",
      "Episode 166\tScore: 31.23\tAverage Score: 20.18\n",
      "Episode 167\tScore: 36.09\tAverage Score: 20.46\n",
      "Episode 168\tScore: 32.59\tAverage Score: 20.70\n",
      "Episode 169\tScore: 35.91\tAverage Score: 20.96\n",
      "Episode 170\tScore: 39.37\tAverage Score: 21.25\n",
      "Episode 171\tScore: 33.81\tAverage Score: 21.50\n",
      "Episode 172\tScore: 35.42\tAverage Score: 21.75\n",
      "Episode 173\tScore: 33.96\tAverage Score: 21.97\n",
      "Episode 174\tScore: 34.50\tAverage Score: 22.19\n",
      "Episode 175\tScore: 38.17\tAverage Score: 22.46\n",
      "Episode 176\tScore: 35.35\tAverage Score: 22.71\n",
      "Episode 177\tScore: 36.78\tAverage Score: 22.97\n",
      "Episode 178\tScore: 35.86\tAverage Score: 23.22\n",
      "Episode 179\tScore: 38.43\tAverage Score: 23.48\n",
      "Episode 180\tScore: 36.43\tAverage Score: 23.73\n",
      "Episode 181\tScore: 41.12\tAverage Score: 24.04\n",
      "Episode 182\tScore: 38.85\tAverage Score: 24.33\n",
      "Episode 183\tScore: 40.33\tAverage Score: 24.62\n"
     ]
    },
    {
     "name": "stdout",
     "output_type": "stream",
     "text": [
      "Episode 184\tScore: 37.83\tAverage Score: 24.87\n",
      "Episode 185\tScore: 42.33\tAverage Score: 25.18\n",
      "Episode 186\tScore: 38.26\tAverage Score: 25.43\n",
      "Episode 187\tScore: 38.96\tAverage Score: 25.69\n",
      "Episode 188\tScore: 39.01\tAverage Score: 25.94\n",
      "Episode 189\tScore: 39.54\tAverage Score: 26.20\n",
      "Episode 190\tScore: 38.52\tAverage Score: 26.45\n",
      "Episode 191\tScore: 39.24\tAverage Score: 26.71\n",
      "Episode 192\tScore: 41.83\tAverage Score: 26.98\n",
      "Episode 193\tScore: 42.91\tAverage Score: 27.25\n",
      "Episode 194\tScore: 42.68\tAverage Score: 27.53\n",
      "Episode 195\tScore: 42.89\tAverage Score: 27.80\n",
      "Episode 196\tScore: 43.30\tAverage Score: 28.09\n",
      "Episode 197\tScore: 44.38\tAverage Score: 28.39\n",
      "Episode 198\tScore: 41.67\tAverage Score: 28.64\n",
      "Episode 199\tScore: 41.79\tAverage Score: 28.90\n",
      "Episode 200\tScore: 45.48\tAverage Score: 29.20\n",
      "Episode 200\tAverage Score: 29.20\n",
      "Episode 201\tScore: 47.37\tAverage Score: 29.51\n",
      "Episode 202\tScore: 44.54\tAverage Score: 29.79\n",
      "Episode 203\tScore: 45.99\tAverage Score: 30.07\n",
      "\n",
      "Environment solved in 203 episodes!\tAverage Score: 30.07\n"
     ]
    }
   ],
   "source": [
    "scores = ddpg(n_episodes=300)"
   ]
  },
  {
   "cell_type": "code",
   "execution_count": 9,
   "metadata": {},
   "outputs": [
    {
     "data": {
      "image/png": "[encoded data removed]",
      "text/plain": [
       "<Figure size 432x288 with 1 Axes>"
      ]
     },
     "metadata": {
      "needs_background": "light"
     },
     "output_type": "display_data"
    }
   ],
   "source": [
    "fig = plt.figure()\n",
    "ax = fig.add_subplot(111)\n",
    "plt.plot(np.arange(1, len(scores)+1), scores)\n",
    "plt.ylabel('Score')\n",
    "plt.xlabel('Episode #')\n",
    "plt.show()"
   ]
  },
  {
   "cell_type": "markdown",
   "metadata": {},
   "source": [
    "### Model Inference"
   ]
  },
  {
   "cell_type": "code",
   "execution_count": 39,
   "metadata": {},
   "outputs": [],
   "source": [
    "from model import Actor, Critic"
   ]
  },
  {
   "cell_type": "code",
   "execution_count": 46,
   "metadata": {},
   "outputs": [],
   "source": [
    "random_seed = 10\n",
    "device = torch.device(\"cuda:0\" if torch.cuda.is_available() else \"cpu\") \n",
    "agents = []\n",
    "\n",
    "for i in range(num_agents):\n",
    "    agents.append(Agent(state_dim, action_dim, random_seed=0))\n",
    "\n",
    "for i in range(num_agents):\n",
    "    #Load actor weights\n",
    "    agents[i].actor_local = Actor(state_size, action_size, random_seed).to(device)\n",
    "    agents[i].actor_local.load_state_dict(torch.load('models/checkpoint_actor_'+str(i+1)+'.pth', map_location=device))\n",
    "    #Load critic weights\n",
    "    agents[i].critic_local = Critic(state_size, action_size, random_seed).to(device)\n",
    "    agents[i].critic_local.load_state_dict(torch.load('models/checkpoint_critic_'+str(i+1)+'.pth', map_location=device))"
   ]
  },
  {
   "cell_type": "code",
   "execution_count": 48,
   "metadata": {},
   "outputs": [
    {
     "name": "stdout",
     "output_type": "stream",
     "text": [
      "Score: 17.36"
     ]
    }
   ],
   "source": [
    "env_info = env.reset(train_mode=True)[brain_name] #reset env\n",
    "scores = np.zeros(num_agents)\n",
    "while True:\n",
    "    actions = np.array([agents[i].act(states[i]) for i in range(num_agents)]).squeeze(1)\n",
    "    env_info = env.step(actions)[brain_name]        \n",
    "    next_states = env_info.vector_observations     \n",
    "    rewards = env_info.rewards                     \n",
    "    dones = env_info.local_done        \n",
    "\n",
    "    states = next_states\n",
    "    scores += rewards\n",
    "\n",
    "    print('\\rScore: {:.2f}'.format(np.mean(scores)), end=\"\") \n",
    "    \n",
    "    if np.any(dones):\n",
    "        break"
   ]
  },
  {
   "cell_type": "code",
   "execution_count": null,
   "metadata": {},
   "outputs": [],
   "source": []
  },
  {
   "cell_type": "code",
   "execution_count": null,
   "metadata": {},
   "outputs": [],
   "source": []
  }
 ],
 "metadata": {
  "kernelspec": {
   "display_name": "drl",
   "language": "python",
   "name": "drl"
  },
  "language_info": {
   "codemirror_mode": {
    "name": "ipython",
    "version": 3
   },
   "file_extension": ".py",
   "mimetype": "text/x-python",
   "name": "python",
   "nbconvert_exporter": "python",
   "pygments_lexer": "ipython3",
   "version": "3.6.12"
  }
 },
 "nbformat": 4,
 "nbformat_minor": 4
}
